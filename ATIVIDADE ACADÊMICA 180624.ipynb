{
  "nbformat": 4,
  "nbformat_minor": 0,
  "metadata": {
    "colab": {
      "provenance": [],
      "authorship_tag": "ABX9TyMBucy18iiVUu/MCLzBqqCD",
      "include_colab_link": true
    },
    "kernelspec": {
      "name": "python3",
      "display_name": "Python 3"
    },
    "language_info": {
      "name": "python"
    }
  },
  "cells": [
    {
      "cell_type": "markdown",
      "metadata": {
        "id": "view-in-github",
        "colab_type": "text"
      },
      "source": [
        "<a href=\"https://colab.research.google.com/github/kethyllecury/algoritimo/blob/main/exerc%C3%ADcio180624.ipynb\" target=\"_parent\"><img src=\"https://colab.research.google.com/assets/colab-badge.svg\" alt=\"Open In Colab\"/></a>"
      ]
    },
    {
      "cell_type": "code",
      "execution_count": 1,
      "metadata": {
        "colab": {
          "base_uri": "https://localhost:8080/",
          "height": 981
        },
        "id": "M0kukDc9UXlX",
        "outputId": "45f048a8-ce84-4905-f18c-9fd33b9a1e75"
      },
      "outputs": [
        {
          "output_type": "stream",
          "name": "stdout",
          "text": [
            "Menu de operações:\n",
            "1- Adição\n",
            "2- Subtração\n",
            "3- Multiplicação\n",
            "4- Divisão\n",
            "5- Potenciação\n",
            "6- Raiz Quadrada\n",
            "7- Módulo\n",
            "0- Sair\n",
            "Escolha a operação: 6\n",
            "Digite o número: 4\n",
            "Resultado: 2.0\n",
            "Menu de operações:\n",
            "1- Adição\n",
            "2- Subtração\n",
            "3- Multiplicação\n",
            "4- Divisão\n",
            "5- Potenciação\n",
            "6- Raiz Quadrada\n",
            "7- Módulo\n",
            "0- Sair\n"
          ]
        },
        {
          "output_type": "error",
          "ename": "KeyboardInterrupt",
          "evalue": "Interrupted by user",
          "traceback": [
            "\u001b[0;31m---------------------------------------------------------------------------\u001b[0m",
            "\u001b[0;31mKeyboardInterrupt\u001b[0m                         Traceback (most recent call last)",
            "\u001b[0;32m<ipython-input-1-5ca7ddded990>\u001b[0m in \u001b[0;36m<cell line: 28>\u001b[0;34m()\u001b[0m\n\u001b[1;32m     37\u001b[0m     \u001b[0mprint\u001b[0m\u001b[0;34m(\u001b[0m\u001b[0;34m\"0- Sair\"\u001b[0m\u001b[0;34m)\u001b[0m\u001b[0;34m\u001b[0m\u001b[0;34m\u001b[0m\u001b[0m\n\u001b[1;32m     38\u001b[0m \u001b[0;34m\u001b[0m\u001b[0m\n\u001b[0;32m---> 39\u001b[0;31m     \u001b[0mop\u001b[0m \u001b[0;34m=\u001b[0m \u001b[0mint\u001b[0m\u001b[0;34m(\u001b[0m\u001b[0minput\u001b[0m\u001b[0;34m(\u001b[0m\u001b[0;34m\"Escolha a operação: \"\u001b[0m\u001b[0;34m)\u001b[0m\u001b[0;34m)\u001b[0m\u001b[0;34m\u001b[0m\u001b[0;34m\u001b[0m\u001b[0m\n\u001b[0m\u001b[1;32m     40\u001b[0m     \u001b[0;32mif\u001b[0m \u001b[0mop\u001b[0m \u001b[0;34m==\u001b[0m \u001b[0;36m0\u001b[0m\u001b[0;34m:\u001b[0m\u001b[0;34m\u001b[0m\u001b[0;34m\u001b[0m\u001b[0m\n\u001b[1;32m     41\u001b[0m         \u001b[0;32mbreak\u001b[0m\u001b[0;34m\u001b[0m\u001b[0;34m\u001b[0m\u001b[0m\n",
            "\u001b[0;32m/usr/local/lib/python3.10/dist-packages/ipykernel/kernelbase.py\u001b[0m in \u001b[0;36mraw_input\u001b[0;34m(self, prompt)\u001b[0m\n\u001b[1;32m    849\u001b[0m                 \u001b[0;34m\"raw_input was called, but this frontend does not support input requests.\"\u001b[0m\u001b[0;34m\u001b[0m\u001b[0;34m\u001b[0m\u001b[0m\n\u001b[1;32m    850\u001b[0m             )\n\u001b[0;32m--> 851\u001b[0;31m         return self._input_request(str(prompt),\n\u001b[0m\u001b[1;32m    852\u001b[0m             \u001b[0mself\u001b[0m\u001b[0;34m.\u001b[0m\u001b[0m_parent_ident\u001b[0m\u001b[0;34m,\u001b[0m\u001b[0;34m\u001b[0m\u001b[0;34m\u001b[0m\u001b[0m\n\u001b[1;32m    853\u001b[0m             \u001b[0mself\u001b[0m\u001b[0;34m.\u001b[0m\u001b[0m_parent_header\u001b[0m\u001b[0;34m,\u001b[0m\u001b[0;34m\u001b[0m\u001b[0;34m\u001b[0m\u001b[0m\n",
            "\u001b[0;32m/usr/local/lib/python3.10/dist-packages/ipykernel/kernelbase.py\u001b[0m in \u001b[0;36m_input_request\u001b[0;34m(self, prompt, ident, parent, password)\u001b[0m\n\u001b[1;32m    893\u001b[0m             \u001b[0;32mexcept\u001b[0m \u001b[0mKeyboardInterrupt\u001b[0m\u001b[0;34m:\u001b[0m\u001b[0;34m\u001b[0m\u001b[0;34m\u001b[0m\u001b[0m\n\u001b[1;32m    894\u001b[0m                 \u001b[0;31m# re-raise KeyboardInterrupt, to truncate traceback\u001b[0m\u001b[0;34m\u001b[0m\u001b[0;34m\u001b[0m\u001b[0m\n\u001b[0;32m--> 895\u001b[0;31m                 \u001b[0;32mraise\u001b[0m \u001b[0mKeyboardInterrupt\u001b[0m\u001b[0;34m(\u001b[0m\u001b[0;34m\"Interrupted by user\"\u001b[0m\u001b[0;34m)\u001b[0m \u001b[0;32mfrom\u001b[0m \u001b[0;32mNone\u001b[0m\u001b[0;34m\u001b[0m\u001b[0;34m\u001b[0m\u001b[0m\n\u001b[0m\u001b[1;32m    896\u001b[0m             \u001b[0;32mexcept\u001b[0m \u001b[0mException\u001b[0m \u001b[0;32mas\u001b[0m \u001b[0me\u001b[0m\u001b[0;34m:\u001b[0m\u001b[0;34m\u001b[0m\u001b[0;34m\u001b[0m\u001b[0m\n\u001b[1;32m    897\u001b[0m                 \u001b[0mself\u001b[0m\u001b[0;34m.\u001b[0m\u001b[0mlog\u001b[0m\u001b[0;34m.\u001b[0m\u001b[0mwarning\u001b[0m\u001b[0;34m(\u001b[0m\u001b[0;34m\"Invalid Message:\"\u001b[0m\u001b[0;34m,\u001b[0m \u001b[0mexc_info\u001b[0m\u001b[0;34m=\u001b[0m\u001b[0;32mTrue\u001b[0m\u001b[0;34m)\u001b[0m\u001b[0;34m\u001b[0m\u001b[0;34m\u001b[0m\u001b[0m\n",
            "\u001b[0;31mKeyboardInterrupt\u001b[0m: Interrupted by user"
          ]
        }
      ],
      "source": [
        "\n",
        "import math\n",
        "\n",
        "def somar(n1, n2):\n",
        "    return n1 + n2\n",
        "\n",
        "def subtrair(n1, n2):\n",
        "    return n1 - n2\n",
        "\n",
        "def multiplicar(n1, n2):\n",
        "    return n1 * n2\n",
        "\n",
        "def dividir(n1, n2):\n",
        "    if n2 == 0:\n",
        "        return \"Não pode divisão por zero\"\n",
        "    return n1 / n2\n",
        "\n",
        "def potencia(n1, n2):\n",
        "    return n1 ** n2\n",
        "\n",
        "def raiz_quadrada(n):\n",
        "    if n < 0:\n",
        "        return \"Não pode raiz quadrada de número negativo\"\n",
        "    return math.sqrt(n)\n",
        "\n",
        "def modulo(n1, n2):\n",
        "    return n1 % n2\n",
        "\n",
        "while True:\n",
        "    print(\"Menu de operações:\")\n",
        "    print(\"1- Adição\")\n",
        "    print(\"2- Subtração\")\n",
        "    print(\"3- Multiplicação\")\n",
        "    print(\"4- Divisão\")\n",
        "    print(\"5- Potenciação\")\n",
        "    print(\"6- Raiz Quadrada\")\n",
        "    print(\"7- Módulo\")\n",
        "    print(\"0- Sair\")\n",
        "\n",
        "    op = int(input(\"Escolha a operação: \"))\n",
        "    if op == 0:\n",
        "        break\n",
        "    elif op > 7:\n",
        "        print(\"Erro: Operação inválida. Tente novamente.\")\n",
        "        continue\n",
        "\n",
        "    if op == 6:  # Raiz Quadrada\n",
        "        n = int(input(\"Digite o número: \"))\n",
        "        print('Resultado:', raiz_quadrada(n))\n",
        "    else:\n",
        "        n1 = int(input(\"Digite o primeiro número: \"))\n",
        "        n2 = int(input(\"Digite o segundo número: \"))\n",
        "\n",
        "        if op == 1:\n",
        "            print('Resultado:', somar(n1, n2))\n",
        "        elif op == 2:\n",
        "            print('Resultado:', subtrair(n1, n2))\n",
        "        elif op == 3:\n",
        "            print('Resultado:', multiplicar(n1, n2))\n",
        "        elif op == 4:\n",
        "            print('Resultado:', dividir(n1, n2))\n",
        "        elif op == 5:\n",
        "            print('Resultado:', potencia(n1, n2))\n",
        "        elif op == 7:\n",
        "            print('Resultado:', modulo(n1, n2))"
      ]
    }
  ]
}
