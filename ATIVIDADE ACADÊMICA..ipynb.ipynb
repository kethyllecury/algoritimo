{
  "nbformat": 4,
  "nbformat_minor": 0,
  "metadata": {
    "colab": {
      "provenance": [],
      "authorship_tag": "ABX9TyOLQHy4piv5CvrbvLY7dNkF",
      "include_colab_link": true
    },
    "kernelspec": {
      "name": "python3",
      "display_name": "Python 3"
    },
    "language_info": {
      "name": "python"
    }
  },
  "cells": [
    {
      "cell_type": "markdown",
      "metadata": {
        "id": "view-in-github",
        "colab_type": "text"
      },
      "source": [
        "<a href=\"https://colab.research.google.com/github/kethyllecury/algoritimo/blob/main/26_03.ipynb\" target=\"_parent\"><img src=\"https://colab.research.google.com/assets/colab-badge.svg\" alt=\"Open In Colab\"/></a>"
      ]
    },
    {
      "cell_type": "code",
      "source": [
        "\n",
        "idade1= 27\n",
        "idade2= 20\n",
        "\n",
        "\n",
        "soma= idade1 + idade2\n",
        "print(soma)\n",
        "subtrair=idade1 - idade2\n",
        "print(subtrair)\n",
        "\n",
        "div=idade1/idade2\n",
        "print (div)\n",
        "\n",
        "mult=idade1 * idade2\n",
        "print(mult)\n",
        "\n",
        "\n",
        "idade1 + 10\n",
        "\n",
        "idade1 - 15\n",
        "\n",
        "idade1 * 4\n",
        "\n",
        "idade1 / 5\n",
        "\n",
        "\n",
        "2 * (idade1 + idade2)\n",
        "\n",
        "2* idade1 + 3 * idade2 / 4\n",
        "\n",
        "(2*idade1+ 3 * idade2 ) / 4\n",
        "\n",
        "idade1 % idade2"
      ],
      "metadata": {
        "colab": {
          "base_uri": "https://localhost:8080/"
        },
        "id": "6kIWs65rdNFs",
        "outputId": "89f31325-b6d2-4aaf-9095-f984e3bdb5db"
      },
      "execution_count": 6,
      "outputs": [
        {
          "output_type": "stream",
          "name": "stdout",
          "text": [
            "47\n",
            "7\n",
            "1.35\n",
            "540\n"
          ]
        },
        {
          "output_type": "execute_result",
          "data": {
            "text/plain": [
              "7"
            ]
          },
          "metadata": {},
          "execution_count": 6
        }
      ]
    },
    {
      "cell_type": "code",
      "source": [
        "pessoa= \"ket\"\n",
        "idade= 37\n",
        "altura= 1.70\n",
        "dev= True\n",
        "type(pessoa)\n",
        "\n",
        "type(idade)\n",
        "\n",
        "type(altura)\n",
        "\n",
        "type(dev)"
      ],
      "metadata": {
        "id": "h7ZdJ8u8eV95"
      },
      "execution_count": null,
      "outputs": []
    },
    {
      "cell_type": "code",
      "source": [
        "print(\"pink pony club\")"
      ],
      "metadata": {
        "id": "y_u-SCc6eLDM"
      },
      "execution_count": null,
      "outputs": []
    }
  ]
}
