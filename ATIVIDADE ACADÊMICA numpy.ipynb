{
  "nbformat": 4,
  "nbformat_minor": 0,
  "metadata": {
    "colab": {
      "provenance": [],
      "authorship_tag": "ABX9TyMKTaTycpItheuECF2GAD/3",
      "include_colab_link": true
    },
    "kernelspec": {
      "name": "python3",
      "display_name": "Python 3"
    },
    "language_info": {
      "name": "python"
    }
  },
  "cells": [
    {
      "cell_type": "markdown",
      "metadata": {
        "id": "view-in-github",
        "colab_type": "text"
      },
      "source": [
        "<a href=\"https://colab.research.google.com/github/kethyllecury/algoritimo/blob/main/numpy.ipynb\" target=\"_parent\"><img src=\"https://colab.research.google.com/assets/colab-badge.svg\" alt=\"Open In Colab\"/></a>"
      ]
    },
    {
      "cell_type": "code",
      "execution_count": null,
      "metadata": {
        "colab": {
          "base_uri": "https://localhost:8080/"
        },
        "id": "bLxuIvfH2n10",
        "outputId": "1791f84c-3260-4940-d4c7-9ee96427586d"
      },
      "outputs": [
        {
          "output_type": "stream",
          "name": "stdout",
          "text": [
            "[1 2 3]\n",
            "[0. 0. 0. 0. 0.]\n",
            "3\n",
            "1\n",
            "2.0\n"
          ]
        }
      ],
      "source": [
        "import numpy as np\n",
        "\n",
        "\n",
        "arr=(1,2,3)\n",
        "array=np.array(arr)\n",
        "print(array)\n",
        "\n",
        "teste=np.zeros(5)\n",
        "print(teste)\n",
        "\n",
        "\n",
        "print(array.max())\n",
        "print(array.min())\n",
        "print(array.mean())"
      ]
    },
    {
      "cell_type": "code",
      "source": [
        "import numpy as np\n",
        "\n",
        "# Exemplo com flatten\n",
        "array_2d = np.array([[1, 2, 3], [4, 5, 6]])\n",
        "array_flatten = array_2d.flatten()\n",
        "print(\"Array original:\")\n",
        "print(array_2d)\n",
        "print(\"Array achatado (flatten):\")\n",
        "print(array_flatten)\n",
        "\n",
        "# Exemplo com ravel\n",
        "array_2d = np.array([[1, 2, 3], [4, 5, 6]])\n",
        "array_ravel = array_2d.ravel()\n",
        "print(\"Array original:\")\n",
        "print(array_2d)\n",
        "print(\"Array achatado (ravel):\")\n",
        "print(array_ravel)\n",
        "array_ravel[0] = 99\n",
        "print(\"Array original após modificação no array ravel:\")\n",
        "print(array_2d)"
      ],
      "metadata": {
        "id": "FlT5QkXM2QEV",
        "outputId": "d3537e4b-196c-494e-afbb-c7a0fbc37798",
        "colab": {
          "base_uri": "https://localhost:8080/"
        }
      },
      "execution_count": null,
      "outputs": [
        {
          "output_type": "stream",
          "name": "stdout",
          "text": [
            "Array original:\n",
            "[[1 2 3]\n",
            " [4 5 6]]\n",
            "Array achatado (flatten):\n",
            "[1 2 3 4 5 6]\n",
            "Array original:\n",
            "[[1 2 3]\n",
            " [4 5 6]]\n",
            "Array achatado (ravel):\n",
            "[1 2 3 4 5 6]\n",
            "Array original após modificação no array ravel:\n",
            "[[99  2  3]\n",
            " [ 4  5  6]]\n"
          ]
        }
      ]
    }
  ]
}
