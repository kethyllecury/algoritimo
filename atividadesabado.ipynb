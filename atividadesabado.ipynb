{
 "cells": [
  {
   "cell_type": "code",
   "execution_count": null,
   "metadata": {},
   "outputs": [],
   "source": [
    "numero1= int(input(\"Digite um número inteiro: \"))\n",
    "numero2= int(input(\"Digite outro número inteiro: \"))\n",
    "numeroreal=float(input(\"Digite um número real: \"))\n",
    "\n",
    "produto=(2*numero1)*(numero2/2)\n",
    "soma=3*numero1+ (numeroreal*numeroreal*numeroreal)\n",
    "\n",
    "print(\"O produto é:\", produto)\n",
    "print(\"A soma é\", soma)"
   ]
  },
  {
   "cell_type": "code",
   "execution_count": null,
   "metadata": {},
   "outputs": [],
   "source": [
    "numero1 = float(input(\"Digite um número: \"))\n",
    "numero2 = float(input(\"Digite outro número: \"))\n",
    "\n",
    "\n",
    "maiornumero=max(numero1,numero2)\n",
    "\n",
    "print(\" O maior número é:\", maiornumero)"
   ]
  },
  {
   "cell_type": "code",
   "execution_count": null,
   "metadata": {},
   "outputs": [],
   "source": [
    "numero1 = int(input(\"Digite um número: \"))\n",
    "numero2 = int(input(\"Digite outro número\"))\n",
    "numero3 = int(input(\"Digite o terceiro numero\"))\n",
    "\n",
    "maiornumero=max(numero1,numero2,numero3)\n",
    "\n",
    "print(\" O maior número é:\", maiornumero)"
   ]
  },
  {
   "cell_type": "code",
   "execution_count": 1,
   "metadata": {},
   "outputs": [
    {
     "name": "stdout",
     "output_type": "stream",
     "text": [
      "Sua media foi: 2.0\n",
      "Reprovado\n"
     ]
    }
   ],
   "source": [
    "nota1= int(input(\"Diga sua primeira nota:\"))\n",
    "nota2= int(input(\"Diga sua segunda nota:\"))\n",
    "\n",
    "\n",
    "notas= [nota1,nota2]\n",
    "media=(nota1+ nota2)/len(notas)\n",
    "print(\"Sua media foi:\", media)\n",
    "\n",
    "if media>= 7:\n",
    "   print(\"Aprovado\")\n",
    "else:\n",
    "   print(\"Reprovado\")"
   ]
  },
  {
   "cell_type": "code",
   "execution_count": 11,
   "metadata": {},
   "outputs": [
    {
     "name": "stdout",
     "output_type": "stream",
     "text": [
      "Negativo\n"
     ]
    }
   ],
   "source": [
    "numero = int(input(\"Digite um número: \"))\n",
    "\n",
    "if numero > 0:\n",
    "   print(\"Positivo\")\n",
    "else:\n",
    "   print(\"Negativo\")"
   ]
  }
 ],
 "metadata": {
  "kernelspec": {
   "display_name": "Python 3",
   "language": "python",
   "name": "python3"
  },
  "language_info": {
   "codemirror_mode": {
    "name": "ipython",
    "version": 3
   },
   "file_extension": ".py",
   "mimetype": "text/x-python",
   "name": "python",
   "nbconvert_exporter": "python",
   "pygments_lexer": "ipython3",
   "version": "3.11.9"
  }
 },
 "nbformat": 4,
 "nbformat_minor": 2
}
