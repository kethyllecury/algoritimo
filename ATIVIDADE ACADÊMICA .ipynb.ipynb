{
 "cells": [
  {
   "cell_type": "code",
   "execution_count": 1,
   "metadata": {},
   "outputs": [
    {
     "name": "stdout",
     "output_type": "stream",
     "text": [
      "o numero informado foi: 53\n"
     ]
    }
   ],
   "source": [
    "numero= int(input(\"Diga um numero:\"))\n",
    "print(\"o numero informado foi:\", numero)"
   ]
  },
  {
   "cell_type": "code",
   "execution_count": 2,
   "metadata": {},
   "outputs": [
    {
     "name": "stdout",
     "output_type": "stream",
     "text": [
      "A soma dos numeros foi: 2\n"
     ]
    }
   ],
   "source": [
    "numero1= int(input(\"Diga o primeiro numero:\"))\n",
    "numero2= int(input(\"Diga o segundo numero:\"))\n",
    "\n",
    "soma=numero1+ numero2\n",
    "print(\"A soma dos numeros foi:\", soma)\n",
    "\n"
   ]
  },
  {
   "cell_type": "code",
   "execution_count": 4,
   "metadata": {},
   "outputs": [
    {
     "name": "stdout",
     "output_type": "stream",
     "text": [
      "Sua media foi: 2.0\n"
     ]
    }
   ],
   "source": [
    "nota1= int(input(\"Diga sua primeira nota:\"))\n",
    "nota2= int(input(\"Diga sua segunda nota:\"))\n",
    "nota3= int(input(\"Diga sua terceira nota:\"))\n",
    "\n",
    "notas= [nota1,nota2,nota3]\n",
    "media=(nota1+ nota2 +nota3)/len(notas)\n",
    "\n",
    "print(\"Sua media foi:\", media)\n",
    "\n"
   ]
  },
  {
   "cell_type": "code",
   "execution_count": 7,
   "metadata": {},
   "outputs": [
    {
     "name": "stdout",
     "output_type": "stream",
     "text": [
      "Seu salario mensal é: 1100\n"
     ]
    }
   ],
   "source": [
    "valorhora= int(input(\"Quanto voce ganha por hora no mes?\"))\n",
    "horas= int(input(\"Numero de horas trabalhadas?\"))\n",
    "\n",
    "pormes=int(valorhora*horas)\n",
    "\n",
    "print(\"Seu salario mensal é:\" , pormes)"
   ]
  }
 ],
 "metadata": {
  "kernelspec": {
   "display_name": "Python 3",
   "language": "python",
   "name": "python3"
  },
  "language_info": {
   "codemirror_mode": {
    "name": "ipython",
    "version": 3
   },
   "file_extension": ".py",
   "mimetype": "text/x-python",
   "name": "python",
   "nbconvert_exporter": "python",
   "pygments_lexer": "ipython3",
   "version": "3.11.9"
  }
 },
 "nbformat": 4,
 "nbformat_minor": 2
}
