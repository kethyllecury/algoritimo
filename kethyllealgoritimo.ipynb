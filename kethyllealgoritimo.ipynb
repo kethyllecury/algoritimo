{
 "cells": [
  {
   "cell_type": "code",
   "execution_count": 31,
   "metadata": {},
   "outputs": [
    {
     "name": "stdout",
     "output_type": "stream",
     "text": [
      "Esse numero e par\n"
     ]
    }
   ],
   "source": [
    "numero =int(input('DIGITE UM NUMERO INTEIRO:'))\n",
    "\n",
    "if(numero % 2 == 0):\n",
    "    print('Esse numero e par')\n",
    "    \n",
    "else:\n",
    "    print('esse numero e impar')\n"
   ]
  }
 ],
 "metadata": {
  "kernelspec": {
   "display_name": "Python 3",
   "language": "python",
   "name": "python3"
  },
  "language_info": {
   "codemirror_mode": {
    "name": "ipython",
    "version": 3
   },
   "file_extension": ".py",
   "mimetype": "text/x-python",
   "name": "python",
   "nbconvert_exporter": "python",
   "pygments_lexer": "ipython3",
   "version": "3.11.8"
  }
 },
 "nbformat": 4,
 "nbformat_minor": 2
}
