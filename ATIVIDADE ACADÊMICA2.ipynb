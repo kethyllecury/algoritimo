{
  "nbformat": 4,
  "nbformat_minor": 0,
  "metadata": {
    "colab": {
      "provenance": [],
      "authorship_tag": "ABX9TyMyMCnN81w2dVsbP9rRsADh",
      "include_colab_link": true
    },
    "kernelspec": {
      "name": "python3",
      "display_name": "Python 3"
    },
    "language_info": {
      "name": "python"
    }
  },
  "cells": [
    {
      "cell_type": "markdown",
      "metadata": {
        "id": "view-in-github",
        "colab_type": "text"
      },
      "source": [
        "<a href=\"https://colab.research.google.com/github/kethyllecury/algoritimo/blob/main/Pr%C3%A1tica1111.ipynb\" target=\"_parent\"><img src=\"https://colab.research.google.com/assets/colab-badge.svg\" alt=\"Open In Colab\"/></a>"
      ]
    },
    {
      "cell_type": "code",
      "execution_count": null,
      "metadata": {
        "id": "O44J3mSVJVjg"
      },
      "outputs": [],
      "source": [
        "\n",
        "vogal= ['a','e','i','o','u']\n",
        "consoante=['b','c','d','f','g','h','j','k','l','m','n','p','q','r','s','t','v','w','x','y','z']\n",
        "for i in vogal:\n",
        "   letra=str(input('digite uma letra:'))\n",
        "   if i == letra:\n",
        "     print('é uma vogal')\n",
        "     i=i+1\n",
        "   else: i ==consoante\n",
        "print('é uma consoante')"
      ]
    },
    {
      "cell_type": "code",
      "source": [
        "produto=float(input('digite o preço'))\n",
        "produto1=float(input('digite o preço'))\n",
        "produto2=float(input('digite o preço'))\n",
        "\n",
        "if produto <= produto1:\n",
        "   print('compre esse:',produto)\n",
        "elif produto1 <=produto2:\n",
        "   print('compre esse:', produto1)\n",
        "else:\n",
        "   print('compre esse:', produto2)"
      ],
      "metadata": {
        "colab": {
          "base_uri": "https://localhost:8080/"
        },
        "id": "Mui8_71qUsxc",
        "outputId": "fbbf75e1-a705-4934-fec4-14d689c351a5"
      },
      "execution_count": null,
      "outputs": [
        {
          "output_type": "stream",
          "name": "stdout",
          "text": [
            "digite o preço9\n",
            "digite o preço4\n",
            "digite o preço1\n",
            "compre esse: 1.0\n"
          ]
        }
      ]
    },
    {
      "cell_type": "code",
      "source": [
        "\n",
        "numero1=int(input('digite um numero'))\n",
        "numero2=int(input('digite outro numero'))\n",
        "numero3=int(input('digite outro numero'))\n",
        "\n",
        "ordem=[]\n",
        "ordem1=[numero1,numero2, numero3]\n",
        "total=ordem+ordem1\n",
        "print(total)\n",
        "\n",
        "\n",
        "total[0]=max(total)\n",
        "total[1]\n",
        "total[2]=min(total)\n",
        "\n",
        "print(total)"
      ],
      "metadata": {
        "colab": {
          "base_uri": "https://localhost:8080/"
        },
        "id": "93H48c4ybxP1",
        "outputId": "3d892d19-c3bd-402c-ff56-dab51ea0a516"
      },
      "execution_count": null,
      "outputs": [
        {
          "output_type": "stream",
          "name": "stdout",
          "text": [
            "digite um numero1\n",
            "digite outro numero2\n",
            "digite outro numero3\n",
            "[1, 2, 3]\n",
            "[3, 2, 2]\n"
          ]
        }
      ]
    },
    {
      "cell_type": "code",
      "source": [
        "dito=str(input('diga o turno estuda: M-Manhã,V-Vespertino,N-Noturno'))\n",
        "\n",
        "Manhã='M'\n",
        "Vespertino='V'\n",
        "Noturno='N'\n",
        "\n",
        "if dito == 'M':\n",
        "   print('bom dia!')\n",
        "elif dito == 'V':\n",
        "   print('boa tarde!')\n",
        "else:\n",
        "   print('boa noite!')"
      ],
      "metadata": {
        "colab": {
          "base_uri": "https://localhost:8080/"
        },
        "id": "auNHMop4rBf5",
        "outputId": "3ebc81c8-b156-480c-ee71-0f48decb4404"
      },
      "execution_count": null,
      "outputs": [
        {
          "output_type": "stream",
          "name": "stdout",
          "text": [
            "diga o turno estuda: M-Manhã,V-Vespertino,N-NoturnoN\n",
            "boa noite!\n"
          ]
        }
      ]
    },
    {
      "cell_type": "code",
      "source": [
        "numero=int(input('digite um numero'))\n",
        "\n",
        "Domingo= 1\n",
        "Segunda=2\n",
        "Terça=3\n",
        "Quarta=4\n",
        "Quinta=5\n",
        "Sexta=6\n",
        "Sabado=7\n",
        "outro= ' valor inválido'\n",
        "\n",
        "if numero== 1:\n",
        "   print('Domingo')\n",
        "elif numero== 2:\n",
        "   print('Segunda')\n",
        "elif numero== 3:\n",
        "   print('Terça')\n",
        "elif numero== 4:\n",
        "   print('Quarta')\n",
        "elif numero== 5:\n",
        "   print('Quinta')\n",
        "elif numero== 6:\n",
        "   print('Sexta')\n",
        "elif numero== 7:\n",
        "   print('Sabado')\n",
        "else:\n",
        "   print(outro)"
      ],
      "metadata": {
        "colab": {
          "base_uri": "https://localhost:8080/"
        },
        "id": "fssVzeZou_rE",
        "outputId": "709da627-a48c-4009-b94f-0d4e140a3de3"
      },
      "execution_count": null,
      "outputs": [
        {
          "output_type": "stream",
          "name": "stdout",
          "text": [
            "digite um numero9\n",
            " valor inválido\n"
          ]
        }
      ]
    },
    {
      "cell_type": "code",
      "source": [
        "nota1= float(input(\"Diga sua primeira nota:\"))\n",
        "nota2= float(input(\"Diga sua segunda nota:\"))\n",
        "\n",
        "\n",
        "notas= [nota1,nota2]\n",
        "media=(nota1+ nota2)/len(notas)\n",
        "print(\"Sua media foi:\", media)\n",
        "\n",
        "if 9.1 <= media <= 10:\n",
        "   print(\"Aprovado conceito A\")\n",
        "elif 7.6 <= media <= 9:\n",
        "   print(\"Aprovado conceito B\")\n",
        "elif 6.1 <= media <= 7.5:\n",
        "   print(\"Aprovado conceito C\")\n",
        "elif 4.1 <= media <= 6:\n",
        "   print(\"Reprovado conceito D\")\n",
        "elif 4.0 <= media <= 0:\n",
        "   print(\"Reprovado conceito E\")"
      ],
      "metadata": {
        "colab": {
          "base_uri": "https://localhost:8080/"
        },
        "id": "uZNcvoHwCnC7",
        "outputId": "c35817ba-9e91-4964-c9e3-a414709f12c1"
      },
      "execution_count": null,
      "outputs": [
        {
          "output_type": "stream",
          "name": "stdout",
          "text": [
            "Diga sua primeira nota:9\n",
            "Diga sua segunda nota:7\n",
            "Sua media foi: 8.0\n",
            "Aprovado conceito B\n"
          ]
        }
      ]
    },
    {
      "cell_type": "code",
      "source": [
        "\n",
        "\n",
        "def ano(anos):\n",
        "    if (anos % 4 == 0 and anos % 100 != 0) or (ano % 400 == 0):\n",
        "        return True\n",
        "    else:\n",
        "        return False\n",
        "\n",
        "anos = int(input(\"Digite um ano: \"))\n",
        "\n",
        "if ano(anos):\n",
        "    print(anos, \"é um ano bissexto.\")\n",
        "else:\n",
        "    print(anos, \"não é um ano bissexto.\")"
      ],
      "metadata": {
        "id": "uyaR4MzRdlVt"
      },
      "execution_count": null,
      "outputs": []
    },
    {
      "cell_type": "code",
      "source": [
        "\n",
        "\n",
        "\n",
        "\n",
        "a= int(input('digite um numero'))\n",
        "b= int(input('digite outro numero'))\n",
        "operação=str(input(['soma', 'subtração',' multiplicação ','divisao', 'exponencial']))\n",
        "\n",
        "def soma(a, b):\n",
        "    return a + b\n",
        "\n",
        "def subtracao(a, b):\n",
        "    return a - b\n",
        "\n",
        "def multiplicacao(a, b):\n",
        "    return a * b\n",
        "\n",
        "def divisao(a, b):\n",
        "    if b == 0:\n",
        "        return \"erro!\"\n",
        "    else:\n",
        "        return a / b\n",
        "\n",
        "def exponencial(a, b):\n",
        "    return a ** b\n",
        "\n",
        "\n",
        "print(soma(a,b))"
      ],
      "metadata": {
        "id": "9N2hWsbinJFX"
      },
      "execution_count": null,
      "outputs": []
    },
    {
      "cell_type": "code",
      "source": [
        "idade= int(input('digite sua idade:'))\n",
        "\n",
        "if idade <= 150:\n",
        "   print('idade aceita')\n",
        "else:\n",
        "   print('idade não aceita')"
      ],
      "metadata": {
        "colab": {
          "base_uri": "https://localhost:8080/"
        },
        "id": "TjzuGUv1rsnK",
        "outputId": "e7a7c213-6b6b-4bfc-c5fd-921dceba8359"
      },
      "execution_count": null,
      "outputs": [
        {
          "output_type": "stream",
          "name": "stdout",
          "text": [
            "digite sua idade:4\n",
            "idade aceita\n"
          ]
        }
      ]
    },
    {
      "cell_type": "code",
      "source": [
        "numero1=int(input('digite um numero'))\n",
        "numero2=int(input('digite outro numero'))\n",
        "numero3=int(input('digite outro numero'))\n",
        "numero4=int(input('digite outro numero'))\n",
        "numero5=int(input('digite outro numero'))\n",
        "\n",
        "ordem=[]\n",
        "ordem1=[numero1,numero2, numero3, numero4, numero5]\n",
        "total=ordem+ordem1\n",
        "print(total)\n",
        "\n",
        "soma= numero1+ numero2+ numero3 +numero4+ numero5\n",
        "print('Essa é a soma',soma)\n",
        "\n",
        "media= (numero1+ numero2+ numero3 +numero4+ numero5)/len(total)\n",
        "print('Essa é media:',media)"
      ],
      "metadata": {
        "colab": {
          "base_uri": "https://localhost:8080/"
        },
        "id": "SaCNTaC_5ozl",
        "outputId": "6296e539-c48e-4f39-b260-936fc55714bb"
      },
      "execution_count": null,
      "outputs": [
        {
          "output_type": "stream",
          "name": "stdout",
          "text": [
            "digite um numero2\n",
            "digite outro numero2\n",
            "digite outro numero2\n",
            "digite outro numero2\n",
            "digite outro numero2\n",
            "[2, 2, 2, 2, 2]\n",
            "Essa é a soma 10\n",
            "Essa é media: 2.0\n"
          ]
        }
      ]
    },
    {
      "cell_type": "code",
      "source": [
        "\n",
        "\n",
        "numero = int(input(\"Digite um número inteiro: \"))\n",
        "\n",
        "if numero <= 1:\n",
        "    print(\"não é um número primo.\",numero)\n",
        "else:\n",
        "    primo = True\n",
        "    for i in range(2, int(numero**0.5) + 1):\n",
        "        if numero % i == 0:\n",
        "            primo = False\n",
        "            break\n",
        "    if primo:\n",
        "        print(numero, \"é um número primo.\")\n",
        "    else:\n",
        "        print(numero, \"não é um número primo.\")!"
      ],
      "metadata": {
        "id": "Uc-RxeycYCkW"
      },
      "execution_count": null,
      "outputs": []
    },
    {
      "cell_type": "code",
      "source": [
        "grau1=int(input('digite graus em Celsius:'))\n",
        "grau2=int(input('digite graus em Celsius:'))\n",
        "grau3=int(input('digite graus em Celsius:'))\n",
        "grau4=int(input('digite graus em Celsius:'))\n",
        "grau5=int(input('digite graus em Celsius:'))\n",
        "\n",
        "ordem=[]\n",
        "ordem1=[grau1,grau2,grau3,grau4,grau5]\n",
        "total=ordem+ordem1\n",
        "print(total)\n",
        "\n",
        "media= (grau1+grau2+grau3+grau4+grau5)/len(total)\n",
        "print('temperatura máxima:',max(total))\n",
        "print('temperatura mínima:',min(total))\n",
        "print('media das temperaturas:',media)"
      ],
      "metadata": {
        "id": "t9AQj8nuQsLo"
      },
      "execution_count": null,
      "outputs": []
    },
    {
      "cell_type": "code",
      "source": [
        "saldo= float(input(\"Diga seu saldo medio:\"))\n",
        "\n",
        "saldo20=saldo*0.2\n",
        "saldo30=saldo*0.3\n",
        "saldo40=saldo*0.4\n",
        "\n",
        "\n",
        "if 0 <= saldo <= 200:\n",
        "   print(\"nenhum crédito\")\n",
        "elif 201<= saldo<= 400:\n",
        "   print(\"20% do saldo médio:\",saldo20)\n",
        "elif 401 <= saldo <=600:\n",
        "   print(\"30% do saldo médio:\",saldo30)\n",
        "elif saldo >= 601:\n",
        "   print(\"40% do saldo médio:\", saldo40)"
      ],
      "metadata": {
        "id": "nJQnXjx7TjdC"
      },
      "execution_count": null,
      "outputs": []
    },
    {
      "cell_type": "code",
      "source": [
        "nome=str(input('digite seu nome:'))\n",
        "idade=int(input('sua idade'))\n",
        "\n",
        "aposentar=(65-idade) + 2024\n",
        "\n",
        "if 18<=idade<=65:\n",
        "    print(nome,'você pode se aposentar em:', aposentar)"
      ],
      "metadata": {
        "colab": {
          "base_uri": "https://localhost:8080/"
        },
        "id": "-1Euh1KQRvu2",
        "outputId": "4a6105d6-d452-4e7a-e101-fc2ee35ffbdc"
      },
      "execution_count": null,
      "outputs": [
        {
          "output_type": "stream",
          "name": "stdout",
          "text": [
            "digite seu nome:n\n",
            "sua idade50\n",
            "n você pode se aposentar em: 2039\n"
          ]
        }
      ]
    },
    {
      "cell_type": "code",
      "source": [],
      "metadata": {
        "id": "Aav4v-7g_QVb"
      },
      "execution_count": null,
      "outputs": []
    },
    {
      "cell_type": "code",
      "source": [
        "valorhora= float(input(\"Diga o valor por hora trabalhada:\"))\n",
        "hora= float(input(\"Diga quantas horas  trabalhadas:\"))\n",
        "\n",
        "bruto=valorhora*hora\n",
        "\n",
        "\n",
        "desconto1=bruto-(bruto*0.075)\n",
        "desconto2=bruto-(bruto*0.15)\n",
        "desconto3=bruto-(bruto*0.0225)\n",
        "desconto4=bruto-(bruto*0.275)\n",
        "\n",
        "\n",
        "\n",
        "\n",
        "\n",
        "if 0 <= bruto <= 2112:\n",
        "   print(\"isento\")\n",
        "elif 2112.01<= bruto <= 2826.65:\n",
        "   print(\"7.5% de desconto:\", desconto1)\n",
        "elif 2826.66 <= bruto <=3751.05:\n",
        "   print(\"15% de desconto:\", desconto2)\n",
        "elif 3751.06 <= bruto <= 4664.68:\n",
        "   print(\"22.5% do saldo médio:\", desconto3)\n",
        "elif bruto>= 4664.68:\n",
        "   print(\"27.5% de desconto\", desconto4)"
      ],
      "metadata": {
        "colab": {
          "base_uri": "https://localhost:8080/"
        },
        "id": "a8JnZKsggTgF",
        "outputId": "ece38da9-729e-4032-a3df-dd06827f2fd7"
      },
      "execution_count": null,
      "outputs": [
        {
          "output_type": "stream",
          "name": "stdout",
          "text": [
            "Diga o valor por hora trabalhada:23\n",
            "Diga quantas horas  trabalhadas:100\n",
            "7.5% de desconto: 2127.5\n"
          ]
        }
      ]
    }
  ]
}
