{
  "cells": [
    {
      "cell_type": "markdown",
      "metadata": {
        "id": "view-in-github",
        "colab_type": "text"
      },
      "source": [
        "<a href=\"https://colab.research.google.com/github/kethyllecury/algoritimo/blob/main/C%C3%B3pia_de_atividade2304.ipynb\" target=\"_parent\"><img src=\"https://colab.research.google.com/assets/colab-badge.svg\" alt=\"Open In Colab\"/></a>"
      ]
    },
    {
      "cell_type": "code",
      "execution_count": null,
      "metadata": {
        "id": "lRSBrzxeDp-K",
        "outputId": "3db6185a-70a1-42d0-e31e-35a2f66bb70c"
      },
      "outputs": [
        {
          "name": "stdout",
          "output_type": "stream",
          "text": [
            "[76, 92, 3, 'oi', True, 4, 76, 'pitomba', 76]\n"
          ]
        }
      ],
      "source": [
        "minhalista=[76,92,3,'oi',True,4,76]\n",
        "minhalista.append('pitomba')\n",
        "minhalista.append(76)\n",
        "\n",
        "print(minhalista)"
      ]
    },
    {
      "cell_type": "code",
      "execution_count": null,
      "metadata": {
        "id": "3Wf2T2odDp-V",
        "outputId": "71ce6f6c-29eb-41da-eaf8-461c18847a3a"
      },
      "outputs": [
        {
          "name": "stdout",
          "output_type": "stream",
          "text": [
            "[76, 92, 3, 'cibele', 'oi', True, 4, 76]\n"
          ]
        }
      ],
      "source": [
        "minhalista=[76,92,3,'oi',True,4,76]\n",
        "\n",
        "minhalista.insert(3,'cibele')\n",
        "print(minhalista)\n",
        "\n",
        "\n",
        "\n",
        "\n"
      ]
    },
    {
      "cell_type": "code",
      "execution_count": null,
      "metadata": {
        "id": "Zjg43vD6Dp-Z",
        "outputId": "9f393d1b-7264-4741-dde1-b3f6aa53618a"
      },
      "outputs": [
        {
          "name": "stdout",
          "output_type": "stream",
          "text": [
            "[99, 76, 92, 3, 'cibele', 'oi', True, 4, 76]\n"
          ]
        }
      ],
      "source": [
        "minhalista.insert(0,99)\n",
        "print(minhalista)"
      ]
    },
    {
      "cell_type": "code",
      "source": [
        "minhalista=[76,92,3,'oi',True,4,76]\n",
        "a=minhalista[3]\n",
        "print (a)"
      ],
      "metadata": {
        "id": "b8F53_I0D8zX"
      },
      "execution_count": null,
      "outputs": []
    },
    {
      "cell_type": "code",
      "source": [
        "lista = [76, 92, 3, 'oi', True, 4, 76]\n",
        "lista.remove(True)\n",
        "print(lista)"
      ],
      "metadata": {
        "id": "oqri9O5gD_8m"
      },
      "execution_count": null,
      "outputs": []
    }
  ],
  "metadata": {
    "kernelspec": {
      "display_name": "Python 3",
      "language": "python",
      "name": "python3"
    },
    "language_info": {
      "codemirror_mode": {
        "name": "ipython",
        "version": 3
      },
      "file_extension": ".py",
      "mimetype": "text/x-python",
      "name": "python",
      "nbconvert_exporter": "python",
      "pygments_lexer": "ipython3",
      "version": "3.11.9"
    },
    "colab": {
      "provenance": [],
      "include_colab_link": true
    }
  },
  "nbformat": 4,
  "nbformat_minor": 0
}