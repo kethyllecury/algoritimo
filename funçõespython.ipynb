{
  "nbformat": 4,
  "nbformat_minor": 0,
  "metadata": {
    "colab": {
      "provenance": [],
      "authorship_tag": "ABX9TyPaKB/S9+54CJmW7R27vc8o",
      "include_colab_link": true
    },
    "kernelspec": {
      "name": "python3",
      "display_name": "Python 3"
    },
    "language_info": {
      "name": "python"
    }
  },
  "cells": [
    {
      "cell_type": "markdown",
      "metadata": {
        "id": "view-in-github",
        "colab_type": "text"
      },
      "source": [
        "<a href=\"https://colab.research.google.com/github/kethyllecury/algoritimo/blob/main/fun%C3%A7%C3%B5espython.ipynb\" target=\"_parent\"><img src=\"https://colab.research.google.com/assets/colab-badge.svg\" alt=\"Open In Colab\"/></a>"
      ]
    },
    {
      "cell_type": "code",
      "source": [
        "def diga():\n",
        "    return 'ola mundo'\n",
        "\n",
        "diga()"
      ],
      "metadata": {
        "id": "36W7uNrHK8jZ",
        "colab": {
          "base_uri": "https://localhost:8080/",
          "height": 35
        },
        "outputId": "69b79065-7609-40c5-e2d8-ced906a83b5a"
      },
      "execution_count": null,
      "outputs": [
        {
          "output_type": "execute_result",
          "data": {
            "text/plain": [
              "'ola mundo'"
            ],
            "application/vnd.google.colaboratory.intrinsic+json": {
              "type": "string"
            }
          },
          "metadata": {},
          "execution_count": 2
        }
      ]
    },
    {
      "cell_type": "code",
      "source": [
        "nome=str(input('diga seu nome'))\n",
        "\n",
        "def mensagem():\n",
        "    return 'boas vindas',nome\n",
        "\n",
        "mensagem()"
      ],
      "metadata": {
        "colab": {
          "base_uri": "https://localhost:8080/"
        },
        "id": "KHhuiJSNxlUA",
        "outputId": "e2428c19-a16f-465f-a2a2-d0708e34f22b"
      },
      "execution_count": null,
      "outputs": [
        {
          "name": "stdout",
          "output_type": "stream",
          "text": [
            "diga seu nomek\n"
          ]
        },
        {
          "output_type": "execute_result",
          "data": {
            "text/plain": [
              "('ola', 'k')"
            ]
          },
          "metadata": {},
          "execution_count": 9
        }
      ]
    },
    {
      "cell_type": "code",
      "source": [
        "def soma(a,b):\n",
        "    return a+b\n",
        "print(soma(1,1))"
      ],
      "metadata": {
        "colab": {
          "base_uri": "https://localhost:8080/"
        },
        "id": "aph374yxyRM5",
        "outputId": "4a6d4f8f-3279-4ba7-e3ac-4cc6ad52bb7d"
      },
      "execution_count": null,
      "outputs": [
        {
          "output_type": "stream",
          "name": "stdout",
          "text": [
            "2\n"
          ]
        }
      ]
    },
    {
      "cell_type": "code",
      "source": [
        "def numero(n):\n",
        "    return n-1,n,n+1\n",
        "print(*numero(1))"
      ],
      "metadata": {
        "colab": {
          "base_uri": "https://localhost:8080/"
        },
        "id": "-uV9_4D_0Gwk",
        "outputId": "4e319273-9c48-4673-d1eb-9ca052ecdeb6"
      },
      "execution_count": null,
      "outputs": [
        {
          "output_type": "stream",
          "name": "stdout",
          "text": [
            "0 1 2\n"
          ]
        }
      ]
    },
    {
      "cell_type": "code",
      "source": [
        "def numero(n):\n",
        "    return n*2,n*3,n**0.5\n",
        "print(*numero(4))"
      ],
      "metadata": {
        "colab": {
          "base_uri": "https://localhost:8080/"
        },
        "id": "AIsXFlfM1Ekq",
        "outputId": "fe15c283-ebd6-488c-9a99-2f4dc237a57c"
      },
      "execution_count": null,
      "outputs": [
        {
          "output_type": "stream",
          "name": "stdout",
          "text": [
            "8 12 2.0\n"
          ]
        }
      ]
    },
    {
      "cell_type": "code",
      "source": [
        "def TemNaCarteira(n):\n",
        "    return 'pode comprar',n/3.37,'dolares'\n",
        "\n",
        "TemNaCarteira(6)"
      ],
      "metadata": {
        "colab": {
          "base_uri": "https://localhost:8080/"
        },
        "id": "X1H8Ak4U1nYq",
        "outputId": "6112646b-3926-4748-e0a4-6447fd63957c"
      },
      "execution_count": null,
      "outputs": [
        {
          "output_type": "execute_result",
          "data": {
            "text/plain": [
              "('pode comprar', 1.7804154302670623, 'dolares')"
            ]
          },
          "metadata": {},
          "execution_count": 42
        }
      ]
    },
    {
      "cell_type": "code",
      "source": [
        "def area(L,a):\n",
        "    areatotal=L*a\n",
        "    pintura= (L*a)/2\n",
        "    return areatotal, pintura\n",
        "\n",
        "print(*area(8,6))"
      ],
      "metadata": {
        "colab": {
          "base_uri": "https://localhost:8080/"
        },
        "id": "a3dIVbyE5FWb",
        "outputId": "003d7ce2-a94d-41e3-8cb7-08ef5f89b5d5"
      },
      "execution_count": null,
      "outputs": [
        {
          "output_type": "stream",
          "name": "stdout",
          "text": [
            "48 24.0\n"
          ]
        }
      ]
    },
    {
      "cell_type": "code",
      "source": [
        "def preco(n):\n",
        "    desconto=n*0.05\n",
        "    print('seu desconto foi de $' , desconto)\n",
        "preco(10)"
      ],
      "metadata": {
        "colab": {
          "base_uri": "https://localhost:8080/"
        },
        "id": "Uz4tY1qump3q",
        "outputId": "b378d58e-a329-4157-8424-d214d2b4d707"
      },
      "execution_count": null,
      "outputs": [
        {
          "output_type": "stream",
          "name": "stdout",
          "text": [
            "seu desconto foi de $ 0.5\n"
          ]
        }
      ]
    },
    {
      "cell_type": "code",
      "source": [
        "def real(n):\n",
        "    return int(n)\n",
        "real(65.765)"
      ],
      "metadata": {
        "colab": {
          "base_uri": "https://localhost:8080/"
        },
        "id": "RkHh-hiDsRzj",
        "outputId": "5261085f-f31c-4369-f379-c3036460512c"
      },
      "execution_count": null,
      "outputs": [
        {
          "output_type": "execute_result",
          "data": {
            "text/plain": [
              "65"
            ]
          },
          "metadata": {},
          "execution_count": 33
        }
      ]
    },
    {
      "cell_type": "code",
      "source": [
        "\n",
        "import random\n",
        "\n",
        "alunos=['ana','bia','joao','lu']\n",
        "def escolher():\n",
        "\n",
        "\n",
        "    for i in alunos:\n",
        "\n",
        "\n",
        "        print('alunos',i)\n",
        "\n",
        "escolher()\n",
        "escolhido1=random.choice(alunos)\n",
        "print('o aluno',escolhido,' foi escolhido para limpar o quadro')\n",
        "\n",
        "\n",
        "\n",
        "for i in range(4):\n",
        "    escolhido=random.choice(alunos)\n",
        "    apresenta=[]\n",
        "    apresentar=apresenta.append(escolhido)\n",
        "    print('ordem de sorteio',apresenta)"
      ],
      "metadata": {
        "colab": {
          "base_uri": "https://localhost:8080/"
        },
        "id": "BGcbalejs_kt",
        "outputId": "94007917-b412-4786-a853-239716fbfd8d"
      },
      "execution_count": null,
      "outputs": [
        {
          "output_type": "stream",
          "name": "stdout",
          "text": [
            "alunos ana\n",
            "alunos bia\n",
            "alunos joao\n",
            "alunos lu\n",
            "o aluno joao  foi escolhido para limpar o quadro\n",
            "ordem de sorteio ['bia']\n",
            "ordem de sorteio ['ana']\n",
            "ordem de sorteio ['lu']\n",
            "ordem de sorteio ['joao']\n"
          ]
        }
      ]
    },
    {
      "cell_type": "code",
      "source": [
        "frase='cai cai balao'\n",
        "lista=list(frase)\n",
        "\n",
        "print(lista)\n",
        "\n",
        "for i in lista:\n",
        "    if i=='a':\n",
        "       print(len(i),'letra a')"
      ],
      "metadata": {
        "colab": {
          "base_uri": "https://localhost:8080/"
        },
        "id": "hU8kVIjVuE3a",
        "outputId": "3848a66c-8233-4fa7-db8e-e331fd3fb49c"
      },
      "execution_count": null,
      "outputs": [
        {
          "output_type": "stream",
          "name": "stdout",
          "text": [
            "['c', 'a', 'i', ' ', 'c', 'a', 'i', ' ', 'b', 'a', 'l', 'a', 'o']\n",
            "1 letra a\n",
            "1 letra a\n",
            "1 letra a\n",
            "1 letra a\n"
          ]
        }
      ]
    },
    {
      "cell_type": "code",
      "source": [
        "import random\n",
        "\n",
        "numero=[0,1,2,3,4,5]\n",
        "escolha=random.choice(numero)\n",
        "print(escolha)\n",
        "\n",
        "diga=int(input('escolha um numero:'))\n",
        "\n",
        "if diga==escolha:\n",
        "   print('acertou')\n",
        "else:\n",
        "   print ('errou, tente novamente')"
      ],
      "metadata": {
        "colab": {
          "base_uri": "https://localhost:8080/"
        },
        "id": "NWnvwY12wzte",
        "outputId": "7cb0521b-7666-4790-d513-42c5bf3bbfbb"
      },
      "execution_count": null,
      "outputs": [
        {
          "output_type": "stream",
          "name": "stdout",
          "text": [
            "3\n",
            "escolha um numero:3\n",
            "acertou\n"
          ]
        }
      ]
    },
    {
      "cell_type": "code",
      "source": [
        "import random\n",
        "\n",
        "palavra=['pedra','papel','tesoura']\n",
        "escolha=random.choice(palavra)\n",
        "\n",
        "\n",
        "diga=str(input('pedra, papel ou tesoura...'))\n",
        "\n",
        "if diga==escolha:\n",
        "   print('pedra, papel ou tesoura...')\n",
        "elif diga == 'pedra':\n",
        "   print('Escolha do oponente:',escolha)\n",
        "   print ('pedra vence tesoura e perde para papel')\n",
        "elif diga == 'papel':\n",
        "   print('Escolha do oponente:',escolha)\n",
        "   print ('papel vence pedra e perde para tesoura')\n",
        "elif diga== 'tesoura':\n",
        "   print('Escolha do oponente:',escolha)\n",
        "   print ('tesoura vence papel e perde para pedra')"
      ],
      "metadata": {
        "id": "WycF8gAQ3oDJ",
        "colab": {
          "base_uri": "https://localhost:8080/"
        },
        "outputId": "87698064-0fd4-435a-806e-b0dff8d0eb14"
      },
      "execution_count": null,
      "outputs": [
        {
          "output_type": "stream",
          "name": "stdout",
          "text": [
            "pedra, papel ou tesoura...papel\n",
            "Escolha do oponente: pedra\n",
            "papel vence pedra e perde para tesoura\n"
          ]
        }
      ]
    },
    {
      "cell_type": "code",
      "source": [
        "ih caixa=[50,20,10,1]\n",
        "\n",
        "saque=int(input('valor do saque:'))\n",
        "for i in caixa:\n",
        "    if sum(caixa) == saque:\n",
        "       print(i)\n",
        "sum(caixa)"
      ],
      "metadata": {
        "colab": {
          "base_uri": "https://localhost:8080/"
        },
        "id": "9CK_wP8SDRW_",
        "outputId": "d3c56088-40cb-4b95-93be-fc9123da698b"
      },
      "execution_count": null,
      "outputs": [
        {
          "name": "stdout",
          "output_type": "stream",
          "text": [
            "valor do saque:6\n"
          ]
        },
        {
          "output_type": "execute_result",
          "data": {
            "text/plain": [
              "81"
            ]
          },
          "metadata": {},
          "execution_count": 67
        }
      ]
    }
  ]
}