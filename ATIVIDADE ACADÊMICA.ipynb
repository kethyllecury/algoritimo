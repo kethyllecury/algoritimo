{
  "nbformat": 4,
  "nbformat_minor": 0,
  "metadata": {
    "colab": {
      "provenance": [],
      "authorship_tag": "ABX9TyMQKl/slRsmRA0pe9QWRjEn",
      "include_colab_link": true
    },
    "kernelspec": {
      "name": "python3",
      "display_name": "Python 3"
    },
    "language_info": {
      "name": "python"
    }
  },
  "cells": [
    {
      "cell_type": "markdown",
      "metadata": {
        "id": "view-in-github",
        "colab_type": "text"
      },
      "source": [
        "<a href=\"https://colab.research.google.com/github/kethyllecury/algoritimo/blob/main/ATIVIDADE%20ACAD%C3%8AMICA.ipynb\" target=\"_parent\"><img src=\"https://colab.research.google.com/assets/colab-badge.svg\" alt=\"Open In Colab\"/></a>"
      ]
    },
    {
      "cell_type": "code",
      "execution_count": null,
      "metadata": {
        "colab": {
          "base_uri": "https://localhost:8080/"
        },
        "id": "vtp2IcEA2847",
        "outputId": "68207d02-9cef-4ff0-ae42-5d1ed0392812"
      },
      "outputs": [
        {
          "output_type": "stream",
          "name": "stdout",
          "text": [
            "i agora e  8 , adicionando  9  no x\n",
            "i agora e  7 , adicionando  8  no x\n",
            "i agora e  6 , adicionando  7  no x\n",
            "i agora e  5 , adicionando  6  no x\n",
            "i agora e  4 , adicionando  5  no x\n",
            "i agora e  3 , adicionando  4  no x\n",
            "i agora e  2 , adicionando  3  no x\n",
            "i agora e  1 , adicionando  2  no x\n",
            "i agora e  0 , adicionando  1  no x\n"
          ]
        },
        {
          "output_type": "execute_result",
          "data": {
            "text/plain": [
              "[9, 8, 7, 6, 5, 4, 3, 2, 1]"
            ]
          },
          "metadata": {},
          "execution_count": 42
        }
      ],
      "source": [
        "a = [1,2,3,4,5, 6, 7, 8, 9]\n",
        "x=[]\n",
        "for i in range(len(a)-1,-1,-1):\n",
        "  print(\"i agora e \", i, \", adicionando \", a[i], \" no x\")\n",
        "  valor = a[i]\n",
        "  x.append(valor)\n",
        "\n",
        "x"
      ]
    },
    {
      "cell_type": "code",
      "source": [
        "a = [5,3,8,1,9,7,4,6,8,54,75,6,58,568,464,65409,60594,7495,7495,7,43,24,64574,35,235,142352,5345,24,424,353543,353,0]\n",
        "soma = 0\n",
        "for i in a:\n",
        "  soma = soma + i\n",
        "\n",
        "\n",
        "\n",
        "soma /len(a)\n"
      ],
      "metadata": {
        "colab": {
          "base_uri": "https://localhost:8080/"
        },
        "id": "dbBtaxXSAUKy",
        "outputId": "6fbf2dc7-b26c-48d3-8a53-1a202dcc2fe3"
      },
      "execution_count": null,
      "outputs": [
        {
          "output_type": "execute_result",
          "data": {
            "text/plain": [
              "148.87368807146547"
            ]
          },
          "metadata": {},
          "execution_count": 55
        }
      ]
    },
    {
      "cell_type": "code",
      "source": [
        "import math"
      ],
      "metadata": {
        "id": "x2WGeUJGHNvs"
      },
      "execution_count": null,
      "outputs": []
    },
    {
      "cell_type": "code",
      "source": [
        "n = 5776\n",
        "r = int(math.sqrt(n))\n",
        "r * r\n"
      ],
      "metadata": {
        "colab": {
          "base_uri": "https://localhost:8080/"
        },
        "id": "PAowq-gWGQvl",
        "outputId": "1b223794-386f-4619-b399-1a4f7c5031ba"
      },
      "execution_count": null,
      "outputs": [
        {
          "output_type": "execute_result",
          "data": {
            "text/plain": [
              "5776"
            ]
          },
          "metadata": {},
          "execution_count": 63
        }
      ]
    }
  ]
}