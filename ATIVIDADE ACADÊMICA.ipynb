{
  "nbformat": 4,
  "nbformat_minor": 0,
  "metadata": {
    "colab": {
      "provenance": [],
      "authorship_tag": "ABX9TyN0FdTWYfNn7qeXnVtF6TL1",
      "include_colab_link": true
    },
    "kernelspec": {
      "name": "python3",
      "display_name": "Python 3"
    },
    "language_info": {
      "name": "python"
    }
  },
  "cells": [
    {
      "cell_type": "markdown",
      "metadata": {
        "id": "view-in-github",
        "colab_type": "text"
      },
      "source": [
        "<a href=\"https://colab.research.google.com/github/kethyllecury/algoritimo/blob/main/ATIVIDADE%20ACAD%C3%8AMICA.ipynb\" target=\"_parent\"><img src=\"https://colab.research.google.com/assets/colab-badge.svg\" alt=\"Open In Colab\"/></a>"
      ]
    },
    {
      "cell_type": "code",
      "source": [
        "patinhos=[1,2,3,4,5]\n",
        "\n",
        "for qua in range(4,0,-1):\n",
        "      print('mamae patinho chamou quaquaquaqua mas so ',qua,'patinhos voltaram')\n",
        "print('mamae patinho chamou quaquaquaqua e todos os',len(patinhos),'retornaram')"
      ],
      "metadata": {
        "colab": {
          "base_uri": "https://localhost:8080/"
        },
        "id": "AirSABU17lDv",
        "outputId": "146e1af6-fa76-4ee4-eac1-4ee9a53afaef"
      },
      "execution_count": null,
      "outputs": [
        {
          "output_type": "stream",
          "name": "stdout",
          "text": [
            "mamae patinho chamou quaquaquaqua mas so  4 patinhos voltaram\n",
            "mamae patinho chamou quaquaquaqua mas so  3 patinhos voltaram\n",
            "mamae patinho chamou quaquaquaqua mas so  2 patinhos voltaram\n",
            "mamae patinho chamou quaquaquaqua mas so  1 patinhos voltaram\n",
            "mamae patinho chamou quaquaquaqua e todos os 5 retornaram\n"
          ]
        }
      ]
    },
    {
      "cell_type": "code",
      "source": [
        "contou=[1,2,3,4,5,6,7,8,9,10]\n",
        "\n",
        "for conta in range(1,11):\n",
        "      print('mariana conta ',conta)\n",
        "      for i in range(1,2):\n",
        "          if conta==2:\n",
        "             print(contou[0],contou[1],'viva mariana')\n",
        "          elif conta==3:\n",
        "             print(contou[0],contou[1],contou[2],'viva mariana')\n",
        "          elif conta==4:\n",
        "             print(contou[0],contou[1],contou[2],contou[3],'viva mariana')\n",
        "          elif conta==5:\n",
        "             print(contou[0],contou[1],contou[2],contou[3],contou[4],'viva mariana')\n",
        "          elif conta==6:\n",
        "             print(contou[0],contou[1],contou[2],contou[3],contou[4],contou[5],'viva mariana')\n",
        "          elif conta==7:\n",
        "             print(contou[0],contou[1],contou[2],contou[3],contou[4],contou[5],contou[6],'viva mariana')\n",
        "          elif conta==8:\n",
        "             print(contou[0],contou[1],contou[2],contou[3],contou[4],contou[5],contou[6],contou[7],'viva mariana')\n",
        "          elif conta==9:\n",
        "             print(contou[0],contou[1],contou[2],contou[3],contou[4],contou[5],contou[6],contou[7],contou[8],'viva mariana')\n",
        "          elif conta==10:\n",
        "             print(contou[0],contou[1],contou[2],contou[3],contou[4],contou[5],contou[6],contou[7],contou[8],contou[9],'viva mariana')"
      ],
      "metadata": {
        "colab": {
          "base_uri": "https://localhost:8080/"
        },
        "id": "fJ1uersw6ZSr",
        "outputId": "6c96ba93-d139-42c9-afec-0cd88354e158"
      },
      "execution_count": null,
      "outputs": [
        {
          "output_type": "stream",
          "name": "stdout",
          "text": [
            "mariana conta  1\n",
            "mariana conta  2\n",
            "1 2 viva mariana\n",
            "mariana conta  3\n",
            "1 2 3 viva mariana\n",
            "mariana conta  4\n",
            "1 2 3 4 viva mariana\n",
            "mariana conta  5\n",
            "1 2 3 4 5 viva mariana\n",
            "mariana conta  6\n",
            "1 2 3 4 5 6 viva mariana\n",
            "mariana conta  7\n",
            "1 2 3 4 5 6 7 viva mariana\n",
            "mariana conta  8\n",
            "1 2 3 4 5 6 7 8 viva mariana\n",
            "mariana conta  9\n",
            "1 2 3 4 5 6 7 8 9 viva mariana\n",
            "mariana conta  10\n",
            "1 2 3 4 5 6 7 8 9 10 viva mariana\n"
          ]
        }
      ]
    },
    {
      "cell_type": "code",
      "source": [
        "elefantes=[1,2,3,4,5,6,7,8,9,10]\n",
        "x='incomodam'\n",
        "\n",
        "for conta in range(1,11,2):\n",
        "      print(conta,'elefante incomoda muita gente')\n",
        "      for i in range(1):\n",
        "          if conta==1:\n",
        "             print('2 elefantes',x,x,' muito mais')\n",
        "          elif conta==3:\n",
        "             print('4 elefantes',x,x,x,x,'muito mais')\n",
        "          elif conta==5:\n",
        "             print('6 elefantes',x,x,x,x,x,x,'muito mais')\n",
        "          elif conta==7:\n",
        "             print('8 elefantes',x,x,x,x,x,x,x,x,'muito mais')\n",
        "          elif conta==9:\n",
        "             print('10 elefantes',x,x,x,x,x,x,x,x,x,x,'muito mais')"
      ],
      "metadata": {
        "colab": {
          "base_uri": "https://localhost:8080/"
        },
        "id": "uBtgZ2S8IYkb",
        "outputId": "85cd4f60-a09a-466f-9814-fd4041b9b35f"
      },
      "execution_count": null,
      "outputs": [
        {
          "output_type": "stream",
          "name": "stdout",
          "text": [
            "1 elefante incomoda muita gente\n",
            "2 elefantes incomodam incomodam  muito mais\n",
            "3 elefante incomoda muita gente\n",
            "4 elefantes incomodam incomodam incomodam incomodam muito mais\n",
            "5 elefante incomoda muita gente\n",
            "6 elefantes incomodam incomodam incomodam incomodam incomodam incomodam muito mais\n",
            "7 elefante incomoda muita gente\n",
            "8 elefantes incomodam incomodam incomodam incomodam incomodam incomodam incomodam incomodam muito mais\n",
            "9 elefante incomoda muita gente\n",
            "10 elefantes incomodam incomodam incomodam incomodam incomodam incomodam incomodam incomodam incomodam incomodam muito mais\n"
          ]
        }
      ]
    }
  ]
}