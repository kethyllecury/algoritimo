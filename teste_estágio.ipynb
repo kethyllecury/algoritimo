{
  "nbformat": 4,
  "nbformat_minor": 0,
  "metadata": {
    "colab": {
      "provenance": [],
      "authorship_tag": "ABX9TyNibAPniAh9xqg/26EjzrhM",
      "include_colab_link": true
    },
    "kernelspec": {
      "name": "python3",
      "display_name": "Python 3"
    },
    "language_info": {
      "name": "python"
    }
  },
  "cells": [
    {
      "cell_type": "markdown",
      "metadata": {
        "id": "view-in-github",
        "colab_type": "text"
      },
      "source": [
        "<a href=\"https://colab.research.google.com/github/kethyllecury/algoritimo/blob/main/teste_est%C3%A1gio.ipynb\" target=\"_parent\"><img src=\"https://colab.research.google.com/assets/colab-badge.svg\" alt=\"Open In Colab\"/></a>"
      ]
    },
    {
      "cell_type": "code",
      "execution_count": 1,
      "metadata": {
        "colab": {
          "base_uri": "https://localhost:8080/"
        },
        "id": "wmVx1OCTjGOl",
        "outputId": "efe231f5-951b-4f97-aad2-fd97673d7b29"
      },
      "outputs": [
        {
          "output_type": "stream",
          "name": "stdout",
          "text": [
            "91\n"
          ]
        }
      ],
      "source": [
        "INDICE = 13\n",
        "SOMA = 0\n",
        "K = 0\n",
        "\n",
        "while K < INDICE:\n",
        "    K += 1\n",
        "    SOMA += K\n",
        "\n",
        "print(SOMA)"
      ]
    },
    {
      "cell_type": "code",
      "source": [
        "\n",
        "def fibonacci(n):\n",
        "    a, b = 0, 1\n",
        "    while a <= n:\n",
        "        if a == n:\n",
        "            return True\n",
        "        a, b = b, a + b\n",
        "    return False\n",
        "\n",
        "\n",
        "numero = int(input(\"Informe um número: \"))\n",
        "\n",
        "\n",
        "if fibonacci(numero):\n",
        "    print(f\"O número {numero} pertence à sequência de Fibonacci.\")\n",
        "else:\n",
        "    print(f\"O número {numero} NÃO pertence à sequência de Fibonacci.\")"
      ],
      "metadata": {
        "colab": {
          "base_uri": "https://localhost:8080/"
        },
        "id": "COmaBfFUjoyv",
        "outputId": "8f08369b-94d1-4b77-9144-95bb155d25b5"
      },
      "execution_count": 2,
      "outputs": [
        {
          "output_type": "stream",
          "name": "stdout",
          "text": [
            "Informe um número: 2\n",
            "O número 2 pertence à sequência de Fibonacci.\n"
          ]
        }
      ]
    },
    {
      "cell_type": "code",
      "source": [
        "{\n",
        "  \"faturamento_diario\": [\n",
        "    {\"dia\": 1, \"valor\": 1000},\n",
        "    {\"dia\": 2, \"valor\": 2000},\n",
        "    {\"dia\": 3, \"valor\": 0},\n",
        "    {\"dia\": 4, \"valor\": 3000},\n",
        "    {\"dia\": 5, \"valor\": 4000},\n",
        "    {\"dia\": 6, \"valor\": 0},\n",
        "    {\"dia\": 7, \"valor\": 0},\n",
        "    {\"dia\": 8, \"valor\": 5000},\n",
        "    {\"dia\": 9, \"valor\": 0}\n",
        "  ]\n",
        "}\n",
        "\n",
        "import json\n",
        "\n",
        "\n",
        "with open('faturamento.json', 'r') as file:\n",
        "    dados = json.load(file)\n",
        "\n",
        "faturamento_diario = dados['faturamento_diario']\n",
        "faturamento_valido = [dia['valor'] for dia in faturamento_diario if dia['valor'] > 0]\n",
        "menor_valor = min(faturamento_valido)\n",
        "maior_valor = max(faturamento_valido)\n",
        "media_mensal = sum(faturamento_valido) / len(faturamento_valido)\n",
        "dias_acima_da_media = len([valor for valor in faturamento_valido if valor > media_mensal])\n",
        "\n",
        "print(f\"Menor valor de faturamento: {menor_valor}\")\n",
        "print(f\"Maior valor de faturamento: {maior_valor}\")\n",
        "print(f\"Número de dias com faturamento acima da média mensal: {dias_acima_da_media}\")"
      ],
      "metadata": {
        "colab": {
          "base_uri": "https://localhost:8080/",
          "height": 297
        },
        "id": "7llPfM6QkTA3",
        "outputId": "4888499a-54e5-406a-e889-8ea525f92f8d"
      },
      "execution_count": 4,
      "outputs": [
        {
          "output_type": "error",
          "ename": "FileNotFoundError",
          "evalue": "[Errno 2] No such file or directory: 'faturamento.json'",
          "traceback": [
            "\u001b[0;31m---------------------------------------------------------------------------\u001b[0m",
            "\u001b[0;31mFileNotFoundError\u001b[0m                         Traceback (most recent call last)",
            "\u001b[0;32m<ipython-input-4-ad241cfe3e9d>\u001b[0m in \u001b[0;36m<cell line: 18>\u001b[0;34m()\u001b[0m\n\u001b[1;32m     16\u001b[0m \u001b[0;34m\u001b[0m\u001b[0m\n\u001b[1;32m     17\u001b[0m \u001b[0;34m\u001b[0m\u001b[0m\n\u001b[0;32m---> 18\u001b[0;31m \u001b[0;32mwith\u001b[0m \u001b[0mopen\u001b[0m\u001b[0;34m(\u001b[0m\u001b[0;34m'faturamento.json'\u001b[0m\u001b[0;34m,\u001b[0m \u001b[0;34m'r'\u001b[0m\u001b[0;34m)\u001b[0m \u001b[0;32mas\u001b[0m \u001b[0mfile\u001b[0m\u001b[0;34m:\u001b[0m\u001b[0;34m\u001b[0m\u001b[0;34m\u001b[0m\u001b[0m\n\u001b[0m\u001b[1;32m     19\u001b[0m     \u001b[0mdados\u001b[0m \u001b[0;34m=\u001b[0m \u001b[0mjson\u001b[0m\u001b[0;34m.\u001b[0m\u001b[0mload\u001b[0m\u001b[0;34m(\u001b[0m\u001b[0mfile\u001b[0m\u001b[0;34m)\u001b[0m\u001b[0;34m\u001b[0m\u001b[0;34m\u001b[0m\u001b[0m\n\u001b[1;32m     20\u001b[0m \u001b[0;34m\u001b[0m\u001b[0m\n",
            "\u001b[0;31mFileNotFoundError\u001b[0m: [Errno 2] No such file or directory: 'faturamento.json'"
          ]
        }
      ]
    },
    {
      "cell_type": "code",
      "source": [
        "\n",
        "faturamento_estados = {\n",
        "    \"SP\": 67836.43,\n",
        "    \"RJ\": 36678.66,\n",
        "    \"MG\": 29229.88,\n",
        "    \"ES\": 27165.48,\n",
        "    \"Outros\": 19849.53\n",
        "}\n",
        "\n",
        "faturamento_total = sum(faturamento_estados.values())\n",
        "\n",
        "for estado, valor in faturamento_estados.items():\n",
        "    percentual = (valor / faturamento_total) * 100\n",
        "    print(f\"{estado}: {percentual:.2f}% do faturamento total\")"
      ],
      "metadata": {
        "colab": {
          "base_uri": "https://localhost:8080/"
        },
        "id": "X8GmePrwk_RA",
        "outputId": "50c8549d-a73a-4c11-ebe8-e15f4a6310d4"
      },
      "execution_count": 5,
      "outputs": [
        {
          "output_type": "stream",
          "name": "stdout",
          "text": [
            "SP: 37.53% do faturamento total\n",
            "RJ: 20.29% do faturamento total\n",
            "MG: 16.17% do faturamento total\n",
            "ES: 15.03% do faturamento total\n",
            "Outros: 10.98% do faturamento total\n"
          ]
        }
      ]
    },
    {
      "cell_type": "code",
      "source": [
        "\n",
        "string = input(\"Informe uma string: \")\n",
        "\n",
        "\n",
        "string_invertida = \"\"\n",
        "for i in range(len(string) - 1, -1, -1):\n",
        "    string_invertida += string[i]\n",
        "\n",
        "print(f\"String invertida: {string_invertida}\")"
      ],
      "metadata": {
        "colab": {
          "base_uri": "https://localhost:8080/"
        },
        "id": "5cOSlGpQlSa7",
        "outputId": "c6f0265f-9c7b-4926-c207-a74c31871409"
      },
      "execution_count": 6,
      "outputs": [
        {
          "output_type": "stream",
          "name": "stdout",
          "text": [
            "Informe uma string: bola\n",
            "String invertida: alob\n"
          ]
        }
      ]
    }
  ]
}