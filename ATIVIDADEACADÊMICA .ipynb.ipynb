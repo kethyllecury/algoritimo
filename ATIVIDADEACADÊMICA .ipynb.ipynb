{
  "cells": [
    {
      "cell_type": "markdown",
      "metadata": {
        "id": "view-in-github",
        "colab_type": "text"
      },
      "source": [
        "<a href=\"https://colab.research.google.com/github/kethyllecury/algoritimo/blob/main/ATIVIDADE%202304.ipynb\" target=\"_parent\"><img src=\"https://colab.research.google.com/assets/colab-badge.svg\" alt=\"Open In Colab\"/></a>"
      ]
    },
    {
      "cell_type": "code",
      "execution_count": 13,
      "metadata": {
        "id": "lRSBrzxeDp-K",
        "outputId": "889653c5-fe89-4139-d092-6b09569cabde",
        "colab": {
          "base_uri": "https://localhost:8080/"
        }
      },
      "outputs": [
        {
          "output_type": "stream",
          "name": "stdout",
          "text": [
            "[76, 92, 3, 'oi', True, 4, 76, 'pitomba', 76]\n"
          ]
        }
      ],
      "source": [
        "minhalista=[76,92,3,'oi',True,4,76]\n",
        "outralista=['pitomba',76]\n",
        "\n",
        "print(minhalista + outralista)"
      ]
    },
    {
      "cell_type": "code",
      "source": [
        "minhalista=[76,92,3,'oi',True,4,76]\n",
        "\n",
        "minhalista2=minhalista[4]='cibele'\n",
        "minhalista2=minhalista[5]=True\n",
        "minhalista2=minhalista[6]=4\n",
        "numero=76\n",
        "minhalista[len(minhalista):]= [numero]\n",
        "\n",
        "\n",
        "\n",
        "print(minhalista)"
      ],
      "metadata": {
        "id": "JgOER8kOKg2l"
      },
      "execution_count": null,
      "outputs": []
    },
    {
      "cell_type": "code",
      "execution_count": 10,
      "metadata": {
        "id": "Zjg43vD6Dp-Z",
        "outputId": "c2f1a6e4-ded4-4ee1-8c71-15aa2ddbcd2d",
        "colab": {
          "base_uri": "https://localhost:8080/"
        }
      },
      "outputs": [
        {
          "output_type": "stream",
          "name": "stdout",
          "text": [
            "[99, 76, 92, 3, 'oi', True, 4, 76]\n"
          ]
        }
      ],
      "source": [
        "\n",
        "\n",
        "minhalista=[76,92,3,'oi',True,4,76]\n",
        "\n",
        "numero=76\n",
        "minhalista2=minhalista[0]=99\n",
        "minhalista2=minhalista[1]=76\n",
        "minhalista2=minhalista[2]=92\n",
        "minhalista2=minhalista[3]=3\n",
        "minhalista2=minhalista[4]='oi'\n",
        "minhalista2=minhalista[5]=True\n",
        "minhalista2=minhalista[6]=4\n",
        "minhalista[len(minhalista):] = [numero]\n",
        "\n",
        "print(minhalista)"
      ]
    },
    {
      "cell_type": "code",
      "source": [
        "minhalista=[76,92,3,'oi',True,4,76]\n",
        "a=minhalista[3]\n",
        "print (a)"
      ],
      "metadata": {
        "id": "b8F53_I0D8zX"
      },
      "execution_count": null,
      "outputs": []
    },
    {
      "cell_type": "code",
      "source": [
        "lista = [76, 92, 3, 'oi', True, 4, 76]\n",
        "lista[4:5]=[]\n",
        "print(lista)"
      ],
      "metadata": {
        "id": "oqri9O5gD_8m",
        "outputId": "b8a63c79-fbff-4805-e553-afc5f894b331",
        "colab": {
          "base_uri": "https://localhost:8080/"
        }
      },
      "execution_count": 11,
      "outputs": [
        {
          "output_type": "stream",
          "name": "stdout",
          "text": [
            "[76, 92, 3, 'oi', 4, 76]\n"
          ]
        }
      ]
    }
  ],
  "metadata": {
    "kernelspec": {
      "display_name": "Python 3",
      "language": "python",
      "name": "python3"
    },
    "language_info": {
      "codemirror_mode": {
        "name": "ipython",
        "version": 3
      },
      "file_extension": ".py",
      "mimetype": "text/x-python",
      "name": "python",
      "nbconvert_exporter": "python",
      "pygments_lexer": "ipython3",
      "version": "3.11.9"
    },
    "colab": {
      "provenance": [],
      "include_colab_link": true
    }
  },
  "nbformat": 4,
  "nbformat_minor": 0
}
