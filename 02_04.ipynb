{
  "nbformat": 4,
  "nbformat_minor": 0,
  "metadata": {
    "colab": {
      "provenance": [],
      "authorship_tag": "ABX9TyPtI5fqI/MFUSApewrSCRz6",
      "include_colab_link": true
    },
    "kernelspec": {
      "name": "python3",
      "display_name": "Python 3"
    },
    "language_info": {
      "name": "python"
    }
  },
  "cells": [
    {
      "cell_type": "markdown",
      "metadata": {
        "id": "view-in-github",
        "colab_type": "text"
      },
      "source": [
        "<a href=\"https://colab.research.google.com/github/kethyllecury/algoritimo/blob/main/02_04.ipynb\" target=\"_parent\"><img src=\"https://colab.research.google.com/assets/colab-badge.svg\" alt=\"Open In Colab\"/></a>"
      ]
    },
    {
      "cell_type": "code",
      "execution_count": null,
      "metadata": {
        "id": "dQHOIUbkwE_9"
      },
      "outputs": [],
      "source": [
        "\n",
        "numero = int(input('Digite um número: '))\n",
        "\n",
        "# Avaliar se é par ou ímpar\n",
        "if (numero % 2 == 0):\n",
        "    print(numero)\n",
        "    print('Este número é par.')\n",
        "else:\n",
        "    print(numero)\n",
        "    print('Este número é ímpar')"
      ]
    },
    {
      "cell_type": "code",
      "source": [
        "numero = int(input('Digite um número: '))\n",
        "\n",
        "if (numero % 2 == 0):\n",
        "    print('Este número é par')\n",
        "else:\n",
        "    print('Este número é ímpar')\n",
        "print(numero)"
      ],
      "metadata": {
        "id": "na0UU-PGwh2v"
      },
      "execution_count": null,
      "outputs": []
    },
    {
      "cell_type": "code",
      "source": [
        "10 > 18 and 3 > 2"
      ],
      "metadata": {
        "id": "CzFmpw2mwlmY"
      },
      "execution_count": null,
      "outputs": []
    }
  ]
}