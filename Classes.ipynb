{
  "nbformat": 4,
  "nbformat_minor": 0,
  "metadata": {
    "colab": {
      "provenance": [],
      "authorship_tag": "ABX9TyPoNfAD5DWu9wc3m1Z+PV1G",
      "include_colab_link": true
    },
    "kernelspec": {
      "name": "python3",
      "display_name": "Python 3"
    },
    "language_info": {
      "name": "python"
    }
  },
  "cells": [
    {
      "cell_type": "markdown",
      "metadata": {
        "id": "view-in-github",
        "colab_type": "text"
      },
      "source": [
        "<a href=\"https://colab.research.google.com/github/kethyllecury/algoritimo/blob/main/Classes.ipynb\" target=\"_parent\"><img src=\"https://colab.research.google.com/assets/colab-badge.svg\" alt=\"Open In Colab\"/></a>"
      ]
    },
    {
      "cell_type": "code",
      "source": [
        "\n",
        "class ingresso:\n",
        "     def __init__(self,valor):\n",
        "           self.valor= valor\n",
        "\n",
        "class Vip:\n",
        "     def __init__(self,valor,valoradicional):\n",
        "         self.valor=valor\n",
        "         self.valoradicional=valoradicional\n",
        "\n",
        "     def imprimirvalor(self):\n",
        "         vip=self.valor+self.valoradicional\n",
        "         print('valor vip:',vip)\n",
        "\n",
        "dar=ingresso(3)\n",
        "darvip=Vip(3,2)\n",
        "darvip.imprimirvalor()"
      ],
      "metadata": {
        "colab": {
          "base_uri": "https://localhost:8080/"
        },
        "id": "un8JQDnSJFV1",
        "outputId": "bd9f055a-ccc2-47a1-daf3-77517289eb80"
      },
      "execution_count": null,
      "outputs": [
        {
          "output_type": "stream",
          "name": "stdout",
          "text": [
            "valor vip: 5\n"
          ]
        }
      ]
    },
    {
      "cell_type": "code",
      "source": [
        "class ContaCorrente:\n",
        "       def __init__(self,saldo):\n",
        "             self.saldo=saldo\n",
        "class ContaPoupanca:\n",
        "       def __init__(self,saldo):\n",
        "             self.saldo=saldo\n",
        "class Percentualimposto:\n",
        "       def __init__(self,saldo,pcimposto):\n",
        "             self.saldo=saldo\n",
        "             self.pcimposto=pcimposto\n",
        "       def Calcularimposto(self):\n",
        "           total=self.saldo*(self.pcimposto/100)\n",
        "           print('total do imposto:',total)\n",
        "\n",
        "pagador=ContaCorrente(100)\n",
        "pagador=ContaPoupanca(150)\n",
        "pagador=Percentualimposto(100,3)\n",
        "\n",
        "pagador.Calcularimposto()"
      ],
      "metadata": {
        "id": "O-zEaYIu3LzH",
        "colab": {
          "base_uri": "https://localhost:8080/"
        },
        "outputId": "615ade0c-c882-4141-a7fc-fdc249d3df8e"
      },
      "execution_count": null,
      "outputs": [
        {
          "output_type": "stream",
          "name": "stdout",
          "text": [
            "total do imposto: 3.0\n"
          ]
        }
      ]
    },
    {
      "cell_type": "code",
      "source": [
        "class pessoa:\n",
        "        def __init__(self,nome,idade,altura):\n",
        "             self.nome=nome\n",
        "             self.idade=idade\n",
        "             self.altura=altura\n",
        "        def publico(self):\n",
        "             print(self.nome)\n",
        "\n",
        "pessoa1=pessoa('ana',23,1.67)\n",
        "pessoa1.publico()"
      ],
      "metadata": {
        "colab": {
          "base_uri": "https://localhost:8080/"
        },
        "id": "rfvxpQe5mHxe",
        "outputId": "a11b4b63-4305-49b8-b34d-63f48734b43c"
      },
      "execution_count": null,
      "outputs": [
        {
          "output_type": "stream",
          "name": "stdout",
          "text": [
            "ana\n"
          ]
        }
      ]
    },
    {
      "cell_type": "code",
      "source": [
        "class compraparcelada:\n",
        "       def __init__(self,avista,parcelas,quant):\n",
        "           self.avista=avista\n",
        "           self.parcelas=parcelas\n",
        "           self.quant=quant\n",
        "       def juros(self):\n",
        "           total=self.parcelas*self.quant\n",
        "           print('total com juros:',total)\n",
        "\n",
        "\n",
        "cliente=compraparcelada(100,28,5)\n",
        "cliente.juros()"
      ],
      "metadata": {
        "colab": {
          "base_uri": "https://localhost:8080/"
        },
        "id": "P1iURbFJpOZd",
        "outputId": "06661ddf-27b3-4d55-fad8-43a59ea01b2c"
      },
      "execution_count": null,
      "outputs": [
        {
          "output_type": "stream",
          "name": "stdout",
          "text": [
            "total com juros: 140\n"
          ]
        }
      ]
    },
    {
      "cell_type": "code",
      "source": [
        "class Restaurante:\n",
        "    restaurantes = []\n",
        "\n",
        "    def __init__(self, nome, categoria):\n",
        "        self.nome = nome.title() #deixa a primeira letra maiuscula != do upper\n",
        "        self.categoria = categoria.upper()\n",
        "        self._status = True  # O _. indica um atributo privado 'encapsulamento'\n",
        "        self._reserva= False\n",
        "        Restaurante.restaurantes.append(self)\n",
        "\n",
        "\n",
        "    def listar_restaurantes():\n",
        "        for restaurante in Restaurante.restaurantes:\n",
        "            print(f'{restaurante.nome.ljust(20)} | {restaurante.categoria.ljust(20)} | {restaurante.status} | {restaurante.reserva}') #20 e a distancia das palavras\n",
        "    @property #definir métodos que são acessados como atributos\n",
        "    def status(self):\n",
        "        return 'aberto' if self._status else 'fechado'\n",
        "    @property\n",
        "    def reserva(self):\n",
        "        return 'reservado' if self._reserva else 'sem reserva'\n",
        "\n",
        "    def alterarReserva(self):\n",
        "         self._reserva= not self._reserva\n",
        "\n",
        "\n",
        "\n",
        "# Testando a classe Restaurante\n",
        "r1 = Restaurante(\"bistro Central\", \"Francês\")\n",
        "r2 = Restaurante(\"Pasta Place\", \"Italiano\")\n",
        "r3 = Restaurante(\"Sushi World\", \"Japonês\")\n",
        "\n",
        "\n",
        "\n",
        "Restaurante.listar_restaurantes()\n",
        "r1.alterarReserva()\n",
        "r2.alterarReserva()\n",
        "\n",
        "Restaurante.listar_restaurantes()\n",
        "\n",
        "\n"
      ],
      "metadata": {
        "id": "ncKHs8SIuYqz",
        "colab": {
          "base_uri": "https://localhost:8080/"
        },
        "outputId": "79bd9daf-d5e0-40b8-f0a6-e3f52f6467f4"
      },
      "execution_count": null,
      "outputs": [
        {
          "output_type": "stream",
          "name": "stdout",
          "text": [
            "Bistro Central       | FRANCÊS              | aberto | sem reserva\n",
            "Pasta Place          | ITALIANO             | aberto | sem reserva\n",
            "Sushi World          | JAPONÊS              | aberto | sem reserva\n",
            "Bistro Central       | FRANCÊS              | aberto | reservado\n",
            "Pasta Place          | ITALIANO             | aberto | reservado\n",
            "Sushi World          | JAPONÊS              | aberto | sem reserva\n"
          ]
        }
      ]
    }
  ]
}