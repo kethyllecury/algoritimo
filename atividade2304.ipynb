{
 "cells": [
  {
   "cell_type": "code",
   "execution_count": 44,
   "metadata": {},
   "outputs": [
    {
     "name": "stdout",
     "output_type": "stream",
     "text": [
      "[76, 92, 3, 'oi', True, 4, 76, 'pitomba', 76]\n"
     ]
    }
   ],
   "source": [
    "minhalista=[76,92,3,'oi',True,4,76]\n",
    "minhalista.append('pitomba')\n",
    "minhalista.append(76)\n",
    "\n",
    "print(minhalista)"
   ]
  },
  {
   "cell_type": "code",
   "execution_count": 126,
   "metadata": {},
   "outputs": [
    {
     "name": "stdout",
     "output_type": "stream",
     "text": [
      "[76, 92, 3, 'cibele', 'oi', True, 4, 76]\n"
     ]
    }
   ],
   "source": [
    "minhalista=[76,92,3,'oi',True,4,76]\n",
    "\n",
    "minhalista.insert(3,'cibele')\n",
    "print(minhalista)\n",
    "\n",
    "\n",
    "\n",
    "\n"
   ]
  },
  {
   "cell_type": "code",
   "execution_count": 127,
   "metadata": {},
   "outputs": [
    {
     "name": "stdout",
     "output_type": "stream",
     "text": [
      "[99, 76, 92, 3, 'cibele', 'oi', True, 4, 76]\n"
     ]
    }
   ],
   "source": [
    "minhalista.insert(0,99)\n",
    "print(minhalista)"
   ]
  }
 ],
 "metadata": {
  "kernelspec": {
   "display_name": "Python 3",
   "language": "python",
   "name": "python3"
  },
  "language_info": {
   "codemirror_mode": {
    "name": "ipython",
    "version": 3
   },
   "file_extension": ".py",
   "mimetype": "text/x-python",
   "name": "python",
   "nbconvert_exporter": "python",
   "pygments_lexer": "ipython3",
   "version": "3.11.9"
  }
 },
 "nbformat": 4,
 "nbformat_minor": 2
}
